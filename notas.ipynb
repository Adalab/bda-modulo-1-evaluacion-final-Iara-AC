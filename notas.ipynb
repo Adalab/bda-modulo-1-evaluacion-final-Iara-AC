{
 "cells": [
  {
   "cell_type": "code",
   "execution_count": 144,
   "metadata": {},
   "outputs": [],
   "source": [
    "class TiendaOnline:\n",
    "    def __init__(self):\n",
    "        self.inventario = [] # Empty LIST for inventory\n",
    "        self.clientes = {}   # Empty DICT dor clients\n",
    "        self.ventas_totales = 0.0 # This variable = float \n",
    "        self.lista_nombres_inv = []  #para auxiliar los metodos que necesitan actualizar/buscar en el inventario por el nombre\n",
    "\n",
    "\n",
    "\n"
   ]
  },
  {
   "cell_type": "code",
   "execution_count": 22,
   "metadata": {},
   "outputs": [
    {
     "name": "stdout",
     "output_type": "stream",
     "text": [
      "[{'nombre': 'patata', 'precio': 3, 'cantidad': 45}]\n"
     ]
    }
   ],
   "source": [
    "tienda_iara = TiendaOnline()\n",
    "\n",
    "# agregar un proucto al inventario\n",
    "tienda_iara.inventario.append({'nombre': 'patata', 'precio': 3, 'cantidad': 45})\n",
    "\n",
    "print(tienda_iara.inventario)"
   ]
  },
  {
   "cell_type": "code",
   "execution_count": 23,
   "metadata": {},
   "outputs": [
    {
     "name": "stdout",
     "output_type": "stream",
     "text": [
      "[]\n"
     ]
    }
   ],
   "source": [
    "tienda_iara = TiendaOnline()\n",
    "\n",
    "# agregar un cliente al inventario\n",
    "tienda_iara.clientes ['Cliente1'] = {'email': 'jose@gmail.com', 'compras': []}\n",
    "\n",
    "print(tienda_iara.inventario)"
   ]
  },
  {
   "cell_type": "markdown",
   "metadata": {},
   "source": [
    "METODOS para esta clase.\n",
    "****Pero lo voy haciendo primero en funciones a ver si funciona primero, antes de añadir a la clase****"
   ]
  },
  {
   "cell_type": "markdown",
   "metadata": {},
   "source": [
    "  1. `agregar_producto(self, nombre, precio, cantidad)`: Este método agrega un producto al inventario o actualiza su cantidad si ya existe. Debe recibir el nombre, precio y cantidad del producto como parámetros. \n",
    "\n",
    "            - Itera a través del inventario y compara los nombres de los productos con el nombre proporcionado.\n",
    "\n",
    "            - Si el producto ya existe, actualiza la cantidad.\n",
    "\n",
    "            - Si no existe, agrega un nuevo producto al inventario."
   ]
  },
  {
   "cell_type": "code",
   "execution_count": 22,
   "metadata": {},
   "outputs": [],
   "source": [
    "list_inventario = [] \n",
    "\n",
    "def agregar_producto(nombre, precio, cantidad):\n",
    "\n",
    "    #iterar cada elemento de la lista inventario, que es un diccionario, y crear una lista con las keys nombres\n",
    "    lista_nombres = [item['nombre'] for item in list_inventario] \n",
    "    print(lista_nombres)\n",
    "\n",
    "    #si el producto existe, tenemos que actualizar su cantidad\n",
    "    #estoy buscando el nombre (atributo) dentro de la nueva lista creada con la list comprehension\n",
    "    if  nombre in lista_nombres: \n",
    "        list_inventario[lista_nombres.index(nombre)]['cantidad'] += cantidad\n",
    "        \n",
    "    #si el producto no existe, tenemos que crear un nuevo producto. DICT dentro de LIST\n",
    "    else:\n",
    "        print(\"entrou no else\")\n",
    "        nuevo_producto = {'nombre': nombre, 'precio': precio, 'cantidad': cantidad}  \n",
    "        list_inventario.append(nuevo_producto)"
   ]
  },
  {
   "cell_type": "code",
   "execution_count": 27,
   "metadata": {},
   "outputs": [
    {
     "name": "stdout",
     "output_type": "stream",
     "text": [
      "['patata', 'brocoli']\n",
      "['patata', 'brocoli']\n"
     ]
    }
   ],
   "source": [
    "agregar_producto(\"patata\", 2, 100)\n",
    "agregar_producto(\"brocoli\", 9, 5)\n"
   ]
  },
  {
   "cell_type": "code",
   "execution_count": 28,
   "metadata": {},
   "outputs": [
    {
     "data": {
      "text/plain": [
       "[{'nombre': 'patata', 'precio': 2, 'cantidad': 300},\n",
       " {'nombre': 'brocoli', 'precio': 9, 'cantidad': 15}]"
      ]
     },
     "execution_count": 28,
     "metadata": {},
     "output_type": "execute_result"
    }
   ],
   "source": [
    "list_inventario"
   ]
  },
  {
   "cell_type": "markdown",
   "metadata": {},
   "source": [
    "2. `ver_inventario(self)`: Muestra el inventario de productos con sus detalles.\n",
    "\n",
    "            - Utiliza un bucle `for` para recorrer el inventario.\n",
    "\n",
    "            - Imprime los detalles (nombre, precio, cantidad) de cada producto.\n",
    "\n",
    "            - Debería verse:\n",
    "\n",
    "                ```python\n",
    "                Nombre: Camisa, Precio: $20, Cantidad: 50\n",
    "                Nombre: Pantalón, Precio: $30, Cantidad: 30\n",
    "                Nombre: Zapatos, Precio: $50, Cantidad: 40\n",
    "                Nombre: Camisa, Precio: $20, Cantidad: 50"
   ]
  },
  {
   "cell_type": "code",
   "execution_count": 71,
   "metadata": {},
   "outputs": [],
   "source": [
    "# ejemplo de lista:\n",
    "\n",
    "lista_inventario = [{'nombre': 'Camisa', 'precio': 20, 'cantidad': 50},\n",
    "            {'nombre': 'Pantalón', 'precio': 30, 'cantidad': 30},\n",
    "            {'nombre': 'Zapatos', 'precio': 50, 'cantidad': 40},\n",
    "            {'nombre': 'Camisa', 'precio': 30, 'cantidad': 50}]\n",
    "\n",
    "\n",
    "def ver_inventario():\n",
    "    print(\"lista_inventario\")\n",
    "    for producto in lista_inventario:\n",
    "        print (f\"Nombre: {producto['nombre']}, Precio: {producto['precio']}, Cantidad: {producto['cantidad']}\")"
   ]
  },
  {
   "cell_type": "code",
   "execution_count": 70,
   "metadata": {},
   "outputs": [
    {
     "name": "stdout",
     "output_type": "stream",
     "text": [
      "lista_inventario\n",
      "Nombre: Camisa, Precio: 20, Cantidad: 50\n",
      "Nombre: Pantalón, Precio: 30, Cantidad: 30\n",
      "Nombre: Zapatos, Precio: 50, Cantidad: 40\n",
      "Nombre: Camisa, Precio: 30, Cantidad: 50\n"
     ]
    }
   ],
   "source": [
    "ver_inventario()"
   ]
  },
  {
   "cell_type": "markdown",
   "metadata": {},
   "source": [
    " 3. `buscar_producto(self, nombre)`: Busca un producto en el inventario por nombre y muestra sus detalles si se encuentra. Debe recibir el nombre del producto como parámetro.\n",
    "\n",
    "            - Utiliza un bucle `for` para recorrer el inventario.\n",
    "\n",
    "            - Compara los nombres de los productos con el nombre proporcionado.\n",
    "\n",
    "            - Si se encuentra el producto, imprime sus detalles.\n",
    "\n",
    "            - Debe mostrar:\n",
    "\n",
    "                ```python\n",
    "                Nombre: Camisa, Precio: $20, Cantidad: 40"
   ]
  },
  {
   "cell_type": "code",
   "execution_count": 84,
   "metadata": {},
   "outputs": [],
   "source": [
    "lista_nombres = [item['nombre'] for item in lista_inventario] \n",
    "\n",
    "def buscar_producto(nombre):\n",
    "    # for item in lista_inventario:\n",
    "    if nombre in lista_nombres:\n",
    "        index = lista_nombres.index(nombre)  #Saber que lugar el nombre esta en la lista de inventario\n",
    "        print(f\"Nombre: {lista_inventario[index]['nombre']}, \\\n",
    "              Precio: ${lista_inventario[index]['precio']}, \\\n",
    "              Cantidad: {lista_inventario[index]['cantidad']}\")\n",
    "    else:\n",
    "        print(f\"Producto '{nombre}' no encontrado en el inventario.\")\n",
    "            "
   ]
  },
  {
   "cell_type": "code",
   "execution_count": 85,
   "metadata": {},
   "outputs": [
    {
     "name": "stdout",
     "output_type": "stream",
     "text": [
      "[{'nombre': 'Camisa', 'precio': 20, 'cantidad': 50}, {'nombre': 'Pantalón', 'precio': 30, 'cantidad': 30}, {'nombre': 'Zapatos', 'precio': 50, 'cantidad': 40}, {'nombre': 'Camisa', 'precio': 30, 'cantidad': 50}]\n"
     ]
    }
   ],
   "source": [
    "print(lista_inventario)"
   ]
  },
  {
   "cell_type": "code",
   "execution_count": 86,
   "metadata": {},
   "outputs": [
    {
     "name": "stdout",
     "output_type": "stream",
     "text": [
      "['Camisa', 'Pantalón', 'Zapatos', 'Camisa']\n"
     ]
    }
   ],
   "source": [
    "print(lista_nombres)"
   ]
  },
  {
   "cell_type": "code",
   "execution_count": 87,
   "metadata": {},
   "outputs": [
    {
     "name": "stdout",
     "output_type": "stream",
     "text": [
      "entrou no if\n",
      "Nombre: Zapatos,               Precio: $50,               Cantidad: 40\n"
     ]
    }
   ],
   "source": [
    "buscar_producto('Zapatos')"
   ]
  },
  {
   "cell_type": "markdown",
   "metadata": {},
   "source": [
    "4. `actualizar_stock(self, nombre, cantidad)`: Actualiza el stock de un producto en el inventario. Debe recibir el nombre del producto y la cantidad a agregar o quitar como parámetros.\n",
    "\n",
    "           - Utiliza un bucle `for` para recorrer el inventario.\n",
    "\n",
    "           - Busca el producto por nombre.\n",
    "\n",
    "           - Actualiza la cantidad según la entrada del usuario.\n",
    "\n",
    "           - Si el producto no esta en el inventario muestra un mensaje indicándolo."
   ]
  },
  {
   "cell_type": "code",
   "execution_count": 149,
   "metadata": {},
   "outputs": [],
   "source": [
    "\n",
    "def actualizar_stock(nombre, cantidad):\n",
    "    for producto in lista_inventario:\n",
    "        if producto['nombre'].lower() == nombre.lower():\n",
    "            producto ['cantidad'] += cantidad\n",
    "            print(f\"Se ha actualizado el producto '{producto['nombre']}' y ahora su cantidad es de {producto['cantidad']}\")\n",
    "            return #Para devolver la actualización hecha de la cantidad\n",
    "        \n",
    "        #si el producto no existe, tenemos que decir al usuario que el producto no existe\n",
    "        else:\n",
    "            print(f\"El producto {nombre} no existe en nuestro inventario por esto no podemos actualizarlo.\")"
   ]
  },
  {
   "cell_type": "code",
   "execution_count": 150,
   "metadata": {},
   "outputs": [
    {
     "name": "stdout",
     "output_type": "stream",
     "text": [
      "El producto reloj no existe en nuestro inventario por esto no podemos actualizarlo.\n",
      "El producto reloj no existe en nuestro inventario por esto no podemos actualizarlo.\n",
      "El producto reloj no existe en nuestro inventario por esto no podemos actualizarlo.\n",
      "El producto reloj no existe en nuestro inventario por esto no podemos actualizarlo.\n"
     ]
    }
   ],
   "source": [
    "actualizar_stock('reloj', 10)"
   ]
  },
  {
   "cell_type": "code",
   "execution_count": 95,
   "metadata": {},
   "outputs": [
    {
     "name": "stdout",
     "output_type": "stream",
     "text": [
      "Se ha actualizado el producto 'Camisa' y ahora su cantidad es de 66\n"
     ]
    }
   ],
   "source": [
    "actualizar_stock('camisa',3)"
   ]
  },
  {
   "cell_type": "markdown",
   "metadata": {},
   "source": [
    "5. `eliminar_producto(self, nombre)`: Elimina un producto del inventario por nombre. Debe recibir el nombre del producto como parámetro.\n",
    "\n",
    "            - Utiliza un bucle `for` para recorrer el inventario.\n",
    "\n",
    "            - Busca el producto por nombre.\n",
    "\n",
    "            - Elimina el producto del inventario si existe.\n",
    "\n",
    "            - Si el producto no esta en el inventario muestra un mensaje indicándolo. "
   ]
  },
  {
   "cell_type": "code",
   "execution_count": 103,
   "metadata": {},
   "outputs": [],
   "source": [
    "\n",
    "\n",
    "def eliminar_producto(nombre):\n",
    "    for producto in lista_inventario:\n",
    "        if producto['nombre'].lower() == nombre.lower():\n",
    "            lista_inventario.remove(producto)\n",
    "            print(f\"Se ha eliminado correctamento el producto '{nombre}' del inventario.\")\n",
    "            return\n",
    "        else:\n",
    "            print(f\"El producto '{nombre}' no existe en el inventario y por esto no puede ser eliminado\")"
   ]
  },
  {
   "cell_type": "code",
   "execution_count": 105,
   "metadata": {},
   "outputs": [
    {
     "name": "stdout",
     "output_type": "stream",
     "text": [
      "[{'nombre': 'Pantalón', 'precio': 30, 'cantidad': 30}, {'nombre': 'Camisa', 'precio': 30, 'cantidad': 50}]\n"
     ]
    }
   ],
   "source": [
    "print(lista_inventario)"
   ]
  },
  {
   "cell_type": "code",
   "execution_count": 106,
   "metadata": {},
   "outputs": [
    {
     "name": "stdout",
     "output_type": "stream",
     "text": [
      "Se ha eliminado correctamento el producto 'pantalón' del inventario.\n"
     ]
    }
   ],
   "source": [
    "eliminar_producto('pantalón')"
   ]
  },
  {
   "cell_type": "code",
   "execution_count": 100,
   "metadata": {},
   "outputs": [
    {
     "name": "stdout",
     "output_type": "stream",
     "text": [
      "El producto 'reloj' no existe en el inventario y por esto no puede ser eliminado\n"
     ]
    }
   ],
   "source": [
    "eliminar_producto('reloj')"
   ]
  },
  {
   "cell_type": "markdown",
   "metadata": {},
   "source": [
    "6. `calcular_valor_inventario(self)`: Calcula y muestra el valor total del inventario.\n",
    "\n",
    "            - Utiliza un bucle for para calcular el valor total del inventario.\n",
    "\n",
    "            - Itera a través del inventario y suma el valor de cada producto (precio x cantidad). Es decir, calcula el valor total del inventario. Ejemplo:\n",
    "\n",
    "                ```python\n",
    "                # si tenemos 5 camisas que valen 5 euros \n",
    "                # y 10 calcetines que valen 1 euro\n",
    "                # este método te tiene que devolver: 35 euros\n",
    "\n",
    "                valor_camisas = 5 * 5\n",
    "                valor_calcetines = 10 * 1\n",
    "\n",
    "                valor_camisas + valor_calcetines = 35"
   ]
  },
  {
   "cell_type": "code",
   "execution_count": 37,
   "metadata": {},
   "outputs": [],
   "source": [
    "def calcular_valor_inventario():\n",
    "    total_inventario = 0\n",
    "    for producto in lista_inventario:\n",
    "        valor_total_producto = producto['precio'] * producto['cantidad']\n",
    "        total_inventario += valor_total_producto\n",
    "    return (f\"El valor total del inventario es de {total_inventario} euros\")"
   ]
  },
  {
   "cell_type": "code",
   "execution_count": 38,
   "metadata": {},
   "outputs": [
    {
     "data": {
      "text/plain": [
       "'El valor total del inventario es de 3900 euros'"
      ]
     },
     "execution_count": 38,
     "metadata": {},
     "output_type": "execute_result"
    }
   ],
   "source": [
    "calcular_valor_inventario()"
   ]
  },
  {
   "cell_type": "markdown",
   "metadata": {},
   "source": [
    " 7. `realizar_compra(self)`: Permite a un cliente realizar una compra seleccionando productos del inventario. Debe interactuar con el cliente para seleccionar productos y calcular el costo total de la compra.\n",
    "\n",
    "            - Utiliza un bucle `while` para permitir al cliente realizar múltiples compras.\n",
    "\n",
    "            - Muestra el inventario y solicita al cliente ingresar el nombre del producto que desea comprar.\n",
    "\n",
    "            - Registra los productos seleccionados en un carrito y actualiza el inventario.\n",
    "\n",
    "            - Calcula el costo total de la compra."
   ]
  },
  {
   "cell_type": "code",
   "execution_count": 115,
   "metadata": {},
   "outputs": [],
   "source": [
    "lista_inventario = [{'nombre': 'Camisa', 'precio': 20, 'cantidad': 50},\n",
    "            {'nombre': 'Pantalón', 'precio': 30, 'cantidad': 30},\n",
    "            {'nombre': 'Zapatos', 'precio': 50, 'cantidad': 40},\n",
    "            {'nombre': 'Collar', 'precio': 120, 'cantidad': 20}]"
   ]
  },
  {
   "cell_type": "code",
   "execution_count": 109,
   "metadata": {},
   "outputs": [
    {
     "name": "stdout",
     "output_type": "stream",
     "text": [
      "[{'nombre': 'Camisa', 'precio': 20, 'cantidad': 50}, {'nombre': 'Pantalón', 'precio': 30, 'cantidad': 30}, {'nombre': 'Zapatos', 'precio': 50, 'cantidad': 40}, {'nombre': 'Camisa', 'precio': 30, 'cantidad': 50}]\n"
     ]
    }
   ],
   "source": [
    "print(lista_inventario)"
   ]
  },
  {
   "cell_type": "code",
   "execution_count": 119,
   "metadata": {},
   "outputs": [],
   "source": [
    "def realizar_compra(lista_inventario):\n",
    "    carrito = {}  # Diccionario vacío para almacenar las compras con los detalles hechas por el cliente\n",
    "\n",
    "    \n",
    "    while True:\n",
    "        print(f\"Estas son tus opciones de compra: {lista_inventario}\")\n",
    "        # print(f\"Estas son tus opciones de compra: {lista_inventario}\")\n",
    "        nombre_prod_compra = input(\"¿Qué producto desea comprar? Si no quieres comprar nada digite 'no'\")\n",
    "\n",
    "        if nombre_prod_compra == 'no':\n",
    "            print(\"Compra finalizada\")\n",
    "            break # Aqui es donde paramos el bucle ya que el cliente no quiere comprar.\n",
    "        \n",
    "        # Hay que buscar el producto elegido por el cliente dentro del inventario \n",
    "        for producto in lista_inventario: \n",
    "            if producto['nombre'].lower() == nombre_prod_compra.lower():\n",
    "                # Cuando encotramos este producto en el inventario, tenemos que preguntar cual la cantidad que el cliente quiere, dentro de las que tenemos.\n",
    "                cantidad_prod_compra = int(input(f\"Ingrese la cantidad de {nombre_prod_compra} que desea comprar. La cantidad en stock de {nombre_prod_compra} son/es {producto['cantidad']}\"))\n",
    "                if cantidad_prod_compra > producto['cantidad']:   # Caso el cliente quiera comprar más cantidad de la que tengamos en stock\n",
    "                        print(f\"No hay suficiente stock de {nombre_prod_compra}. Solo quedan {producto['cantidad']} en inventario.\")\n",
    "                else:   \n",
    "                    # Hay que agregar este producto en el diccionario carrito de compra del cliente. REGISTRO DE LA COMPRA\n",
    "                    producto_dict = {producto['nombre']: {'precio': producto['precio'],\n",
    "                                                          'cantidad': cantidad_prod_compra}}\n",
    "                    carrito.update(producto_dict) \n",
    "                    # Además de añadir al carrito tenemos que ACTUALIZAR EL INVENTARIO. O sea, subtrair esta cantidad del inventario.\n",
    "                    producto['cantidad'] -= cantidad_prod_compra  #un dict, puedo simplesmente llamar la key y hacer lo que quiero\n",
    "                    print(f\"{cantidad_prod_compra} {nombre_prod_compra}(s) foram añadidos correctamente en el carrito de compras\")\n",
    "            else:\n",
    "                print(f\"Producto '{nombre_prod_compra}' no encontrado en el inventario.\")\n",
    "\n",
    "\n",
    "    #Calcular el costo total de la compra\n",
    "    #Iterar cada value del diccionario carrito para poder hacer la multipicación y saber el total de la compra\n",
    "    total_compra = sum(value['precio']*value['cantidad'] for value in carrito.values())  \n",
    "    print(f\"El total de la compra ha sido de {total_compra} euros.\")"
   ]
  },
  {
   "cell_type": "code",
   "execution_count": 116,
   "metadata": {},
   "outputs": [
    {
     "data": {
      "text/plain": [
       "[{'nombre': 'Camisa', 'precio': 20, 'cantidad': 50},\n",
       " {'nombre': 'Pantalón', 'precio': 30, 'cantidad': 30},\n",
       " {'nombre': 'Zapatos', 'precio': 50, 'cantidad': 40},\n",
       " {'nombre': 'Collar', 'precio': 120, 'cantidad': 20}]"
      ]
     },
     "execution_count": 116,
     "metadata": {},
     "output_type": "execute_result"
    }
   ],
   "source": [
    "lista_inventario"
   ]
  },
  {
   "cell_type": "code",
   "execution_count": 120,
   "metadata": {},
   "outputs": [
    {
     "name": "stdout",
     "output_type": "stream",
     "text": [
      "Estas son tus opciones de compra: [{'nombre': 'Camisa', 'precio': 20, 'cantidad': 50}, {'nombre': 'Pantalón', 'precio': 30, 'cantidad': 30}, {'nombre': 'Zapatos', 'precio': 50, 'cantidad': 40}, {'nombre': 'Collar', 'precio': 120, 'cantidad': 19}]\n",
      "Producto 'Collar' no encontrado en el inventario.\n",
      "Producto 'Collar' no encontrado en el inventario.\n",
      "Producto 'Collar' no encontrado en el inventario.\n",
      "No hay suficiente stock de Collar. Solo quedan 19 en inventario.\n",
      "Estas son tus opciones de compra: [{'nombre': 'Camisa', 'precio': 20, 'cantidad': 50}, {'nombre': 'Pantalón', 'precio': 30, 'cantidad': 30}, {'nombre': 'Zapatos', 'precio': 50, 'cantidad': 40}, {'nombre': 'Collar', 'precio': 120, 'cantidad': 19}]\n",
      "Producto 'Collar' no encontrado en el inventario.\n",
      "Producto 'Collar' no encontrado en el inventario.\n",
      "Producto 'Collar' no encontrado en el inventario.\n",
      "19 Collar(s) foram añadidos correctamente en el carrito de compras\n",
      "Estas son tus opciones de compra: [{'nombre': 'Camisa', 'precio': 20, 'cantidad': 50}, {'nombre': 'Pantalón', 'precio': 30, 'cantidad': 30}, {'nombre': 'Zapatos', 'precio': 50, 'cantidad': 40}, {'nombre': 'Collar', 'precio': 120, 'cantidad': 0}]\n",
      "Producto 'Zapatos' no encontrado en el inventario.\n",
      "Producto 'Zapatos' no encontrado en el inventario.\n",
      "2 Zapatos(s) foram añadidos correctamente en el carrito de compras\n",
      "Producto 'Zapatos' no encontrado en el inventario.\n",
      "Estas son tus opciones de compra: [{'nombre': 'Camisa', 'precio': 20, 'cantidad': 50}, {'nombre': 'Pantalón', 'precio': 30, 'cantidad': 30}, {'nombre': 'Zapatos', 'precio': 50, 'cantidad': 38}, {'nombre': 'Collar', 'precio': 120, 'cantidad': 0}]\n",
      "Compra finalizada\n",
      "El total de la compra ha sido de 2380 euros.\n"
     ]
    }
   ],
   "source": [
    "realizar_compra(lista_inventario)"
   ]
  },
  {
   "cell_type": "markdown",
   "metadata": {},
   "source": [
    "  8. `procesar_pago(self)`: Procesa el pago de una compra, calcula el cambio y muestra un mensaje de confirmación.\n",
    "\n",
    "            - Utiliza un bloque `try...except` para manejar excepciones.\n",
    "\n",
    "            - Solicita al cliente ingresar la cantidad total y la cantidad de pago usando un input.\n",
    "\n",
    "            - Calcula el cambio y muestra un mensaje de pago exitoso o un error en caso de monto insuficiente."
   ]
  },
  {
   "cell_type": "code",
   "execution_count": 141,
   "metadata": {},
   "outputs": [],
   "source": [
    "\n",
    "\n",
    "def procesar_pago ():\n",
    "\n",
    "    try:\n",
    "        # Solicitar las informaciones al cliente\n",
    "        total = float(input(\"Ingrese el costo total de tu compra:\"))\n",
    "        pago = float(input(\"Ingrese la cantidad de pago:\"))\n",
    "\n",
    "        if pago > total:\n",
    "            # raise ValueError (\"El monto pago no es suficente\")\n",
    "        \n",
    "            # Calcular si va haber cambio\n",
    "            cambio = pago - total \n",
    "            print (f\"Tu pago ha sido exitoso y tu cambio es de {cambio} euro(s)\")\n",
    "        \n",
    "\n",
    "    except:\n",
    "        print (f\"Mal..Hay que ingresar una cantidad que te permita pagar tu deuda.\")\n"
   ]
  },
  {
   "cell_type": "code",
   "execution_count": 143,
   "metadata": {},
   "outputs": [
    {
     "name": "stdout",
     "output_type": "stream",
     "text": [
      "Mal..Hay que ingresar una cantidad que te permita pagar tu deuda.\n"
     ]
    }
   ],
   "source": [
    "procesar_pago()"
   ]
  },
  {
   "cell_type": "markdown",
   "metadata": {},
   "source": [
    " 9. `agregar_cliente(self, nombre, email)`: Agrega un nuevo cliente al registro de clientes. Debe recibir el nombre y el correo electrónico del cliente como parámetros.\n",
    "\n",
    "            - Agrega un cliente al diccionario de clientes con su nombre y correo electrónico."
   ]
  },
  {
   "cell_type": "code",
   "execution_count": 42,
   "metadata": {},
   "outputs": [],
   "source": [
    "clientes = {}  #diccionario vacio de clientes para ir añandiendo los nuevos\n",
    "\n",
    "def agregar_cliente(nombre,email):\n",
    "        if nombre in clientes:\n",
    "            print (f\"El cliente {nombre} ya existe en la base de datos\")\n",
    "\n",
    "        else:\n",
    "            p = {nombre: {'email':email, 'compras':[]}}\n",
    "            clientes.update(p)\n",
    "        print (f\"Se ha agregado {nombre} con el email {email}\")\n"
   ]
  },
  {
   "cell_type": "code",
   "execution_count": 43,
   "metadata": {},
   "outputs": [
    {
     "name": "stdout",
     "output_type": "stream",
     "text": [
      "Se ha agregado Juan con el email juan@example.com\n"
     ]
    }
   ],
   "source": [
    "agregar_cliente(\"Juan\", \"juan@example.com\")"
   ]
  },
  {
   "cell_type": "code",
   "execution_count": 44,
   "metadata": {},
   "outputs": [
    {
     "name": "stdout",
     "output_type": "stream",
     "text": [
      "{'Juan': {'email': 'juan@example.com', 'compras': []}}\n"
     ]
    }
   ],
   "source": [
    "print(clientes)"
   ]
  },
  {
   "cell_type": "markdown",
   "metadata": {},
   "source": [
    " 10. `ver_clientes(self)`: Muestra la lista de clientes registrados con sus nombres y correos electrónicos.\n",
    "\n",
    "            - Utiliza un bucle `for` para recorrer la base de datos de clientes.\n",
    "\n",
    "            - Imprime los detalles de cada cliente (nombre y correo electrónico)."
   ]
  },
  {
   "cell_type": "code",
   "execution_count": 45,
   "metadata": {},
   "outputs": [],
   "source": [
    "\n",
    "def ver_clientes():\n",
    "    for nombre, value in clientes.items():\n",
    "        # print (f\"{clientes}\")\n"
   ]
  },
  {
   "cell_type": "code",
   "execution_count": 46,
   "metadata": {},
   "outputs": [
    {
     "name": "stdout",
     "output_type": "stream",
     "text": [
      "{'Juan': {'email': 'juan@example.com', 'compras': []}}\n"
     ]
    }
   ],
   "source": [
    "ver_clientes()"
   ]
  },
  {
   "cell_type": "markdown",
   "metadata": {},
   "source": [
    " 11. `registrar_compra(self, nombre_cliente, carrito)`: Registra una compra para un cliente, actualiza las ventas totales y agrega la compra al historial del cliente. Debe recibir el nombre del cliente y el carrito de compras como parámetros.\n",
    "\n",
    "            - Busca al cliente en el diccionario de clientes.\n",
    "\n",
    "            - Si el cliente no esta en el diccionario de clientes, muestra que no se puede realizar la acción por que el cliente no está en el diccionario. \n",
    "\n",
    "            - Calcula el total de la compra y registra la compra, incluyendo los productos y el total.\n",
    "\n",
    "            - Ejemplo:\n",
    "\n",
    "                ```python\n",
    "                carrito_cliente1 = {\"Camisa\": {\"precio\": 20, \"cantidad\": 3}}\n",
    "                tienda.registrar_compra(\"Cliente1\", carrito_cliente1)\n",
    "                ```"
   ]
  },
  {
   "cell_type": "code",
   "execution_count": 47,
   "metadata": {},
   "outputs": [],
   "source": [
    "\n",
    "\n",
    "def registrar_compra (nombre_cliente, carrito:dict):\n",
    "    for nombre_cliente in clientes:\n",
    "        if nombre_cliente not in clientes:\n",
    "            print(f\"El cliente {nombre_cliente} no esta en la base de datos de clientes, por esto no puede realizar la compra.\")\n",
    "\n",
    "    # Compra cliente    \n",
    "    total_compra = 0.0 \n",
    "    registro_compra = []  #el registro de la compra tiene que ser una lista para despues ser añadida en el dict de clientes\n",
    "\n",
    "    #calcular el total de la compra del cliente\n",
    "    for producto, total in carrito.items():\n",
    "        precio = total['precio']\n",
    "        cantidad = total['cantidad']\n",
    "\n",
    "    # Para esto hay que buscar el producto en el inventario\n",
    "        for item in list_inventario:\n",
    "            if item['nombre'] == producto:  # Si esto es verdad (el producto esta en el inventario), hay que verificar si hay la cantidad necesaria para la venta.\n",
    "                if item['cantidad'] >= cantidad:\n",
    "                    total_compra += precio * cantidad\n",
    "                    registro_compra[producto] = {'precio': precio, 'cantidad': cantidad}\n",
    "                    item['cantidad'] -= cantidad   # Esto es para tener el inventario actualizado. Con menos el producto que se ha comprado\n",
    "                else:\n",
    "                    print(f\"No hay stock suficiente para el {producto}\")\n",
    "                break # Aqui podemos parar este for\n",
    "        else: #caso el producto no este en nuestro inventario\n",
    "            print(f\"El producto {producto} no esta en el inventario.\")\n",
    "\n",
    "\n",
    "    #Hay que actualizar las ventas totales de la tienda\n",
    "    venta_totales = 0\n",
    "    venta_totales += total_compra\n",
    "\n",
    "    #Registrar la compra al historial del cliente\n",
    "\n",
    "    clientes[nombre_cliente].update(registro_compra)  #COLOCAR SELF.CLIENTES"
   ]
  },
  {
   "cell_type": "code",
   "execution_count": 48,
   "metadata": {},
   "outputs": [
    {
     "name": "stdout",
     "output_type": "stream",
     "text": [
      "<class 'dict'>\n"
     ]
    }
   ],
   "source": [
    "print(type(clientes))"
   ]
  },
  {
   "cell_type": "code",
   "execution_count": 49,
   "metadata": {},
   "outputs": [
    {
     "name": "stdout",
     "output_type": "stream",
     "text": [
      "<class 'list'>\n"
     ]
    }
   ],
   "source": [
    "registro_compra = []\n",
    "print(type(registro_compra))"
   ]
  },
  {
   "cell_type": "code",
   "execution_count": 50,
   "metadata": {},
   "outputs": [
    {
     "name": "stdout",
     "output_type": "stream",
     "text": [
      "<class 'dict'>\n"
     ]
    }
   ],
   "source": [
    "print(type(carrito_juan))"
   ]
  },
  {
   "cell_type": "code",
   "execution_count": 51,
   "metadata": {},
   "outputs": [
    {
     "name": "stdout",
     "output_type": "stream",
     "text": [
      "lista_inventario\n",
      "Nombre: Pantalón, Precio: 30, Cantidad: 30\n",
      "Nombre: Zapatos, Precio: 50, Cantidad: 40\n",
      "Nombre: Camisa, Precio: 20, Cantidad: 50\n"
     ]
    }
   ],
   "source": [
    "ver_inventario()"
   ]
  },
  {
   "cell_type": "code",
   "execution_count": 52,
   "metadata": {},
   "outputs": [
    {
     "name": "stdout",
     "output_type": "stream",
     "text": [
      "El producto Pantalón no esta en el inventario.\n"
     ]
    }
   ],
   "source": [
    "carrito_juan = {'Pantalón': {'precio':20, 'cantidad':3}}\n",
    "registrar_compra('Juan',carrito_juan)"
   ]
  },
  {
   "cell_type": "code",
   "execution_count": 54,
   "metadata": {},
   "outputs": [
    {
     "data": {
      "text/plain": [
       "dict_items([('Pantalón', {'precio': 20, 'cantidad': 3})])"
      ]
     },
     "execution_count": 54,
     "metadata": {},
     "output_type": "execute_result"
    }
   ],
   "source": [
    "carrito_juan.items()"
   ]
  },
  {
   "cell_type": "markdown",
   "metadata": {},
   "source": [
    "\n",
    "        12. `ver_compras_cliente(self, nombre_cliente)`: Muestra el historial de compras de un cliente. Debe recibir el nombre del cliente como parámetro.\n",
    "\n",
    "            - Busca al cliente en el diccionario de clientes.\n",
    "\n",
    "            - Muestra las compras realizadas por el cliente, incluyendo detalles de productos y totales."
   ]
  },
  {
   "cell_type": "code",
   "execution_count": 70,
   "metadata": {},
   "outputs": [],
   "source": [
    "def ver_compras_clientes (nombre_cliente):\n",
    "    if nombre_cliente in clientes.keys():\n",
    "        total_compra_cliente = clientes[nombre_cliente]['compras']['precio'] * clientes[nombre_cliente]['compras']['cantidad'] \n",
    "        print(f\"El historia de compras del cliente {nombre_cliente} es {clientes[nombre_cliente]['compras']}. Y {nombre_cliente} ha gastado un total de {total_compra_cliente} euros.\")"
   ]
  },
  {
   "cell_type": "code",
   "execution_count": 71,
   "metadata": {},
   "outputs": [],
   "source": [
    "clientes['Juan']['compras'] = {\"precio\": 20, \"cantidad\": 3}"
   ]
  },
  {
   "cell_type": "code",
   "execution_count": 72,
   "metadata": {},
   "outputs": [
    {
     "name": "stdout",
     "output_type": "stream",
     "text": [
      "{'Juan': {'email': 'juan@example.com', 'compras': {'precio': 20, 'cantidad': 3}}}\n"
     ]
    }
   ],
   "source": [
    "print (clientes)"
   ]
  },
  {
   "cell_type": "code",
   "execution_count": 73,
   "metadata": {},
   "outputs": [
    {
     "name": "stdout",
     "output_type": "stream",
     "text": [
      "El historia de compras del cliente Juan es {'precio': 20, 'cantidad': 3}. Y Juan ha gastado un total de 60 euros.\n"
     ]
    }
   ],
   "source": [
    "ver_compras_clientes ('Juan')"
   ]
  },
  {
   "cell_type": "markdown",
   "metadata": {},
   "source": [
    "13. `calcular_ventas_totales(self)`: Muestra las ventas totales de la tienda.\n",
    "\n",
    "            - Suma los totales de todas las compras realizadas y muestra el total de ventas totales en la tienda."
   ]
  },
  {
   "cell_type": "code",
   "execution_count": null,
   "metadata": {},
   "outputs": [],
   "source": [
    "def calcular_ventas_totales():\n",
    "    "
   ]
  }
 ],
 "metadata": {
  "kernelspec": {
   "display_name": "base",
   "language": "python",
   "name": "python3"
  },
  "language_info": {
   "codemirror_mode": {
    "name": "ipython",
    "version": 3
   },
   "file_extension": ".py",
   "mimetype": "text/x-python",
   "name": "python",
   "nbconvert_exporter": "python",
   "pygments_lexer": "ipython3",
   "version": "3.12.4"
  }
 },
 "nbformat": 4,
 "nbformat_minor": 2
}
