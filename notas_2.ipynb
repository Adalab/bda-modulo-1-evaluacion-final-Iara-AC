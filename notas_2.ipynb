{
 "cells": [
  {
   "cell_type": "code",
   "execution_count": null,
   "metadata": {},
   "outputs": [],
   "source": [
    " def procesar_pago (self):\n",
    "        try:\n",
    "            # Solicitar las informaciones al cliente\n",
    "            total = float(input(\"Ingrese el costo total de tu compra:\"))\n",
    "            pago = float(input(\"Ingrese la cantidad de pago:\"))\n",
    "\n",
    "            if pago < total:\n",
    "                raise ValueError (\"El monto pago no es suficente\")\n",
    "            \n",
    "            # Calcular si va haber cambio\n",
    "            cambio = pago - total \n",
    "            print (f\"Tu pago ha sido exitoso y tu cambio es de {cambio} euro(s)\")\n",
    "            \n",
    "\n",
    "        except ValueError:\n",
    "            print (f\"Mal..Hay que ingresar una cantidad que te permita pagar tu deuda.\")\n",
    "\n",
    "    def agregar_cliente(self,nombre,email):\n",
    "        if nombre in self.clientes:\n",
    "            print (f\"El cliente {nombre} ya existe en la base de datos\")\n",
    "\n",
    "        else:\n",
    "            p = {nombre: {'email':email, 'compras':[]}}\n",
    "            self.clientes.update(p)\n",
    "        print (f\"Se ha agregado {nombre} con el email {email}\")\n",
    "\n",
    "    def ver_clientes(self):\n",
    "        for nombre in self.clientes:\n",
    "            # return self.clientes \n",
    "            print (f\"{self.clientes}\")\n"
   ]
  }
 ],
 "metadata": {
  "kernelspec": {
   "display_name": "base",
   "language": "python",
   "name": "python3"
  },
  "language_info": {
   "name": "python",
   "version": "3.12.4"
  }
 },
 "nbformat": 4,
 "nbformat_minor": 2
}
