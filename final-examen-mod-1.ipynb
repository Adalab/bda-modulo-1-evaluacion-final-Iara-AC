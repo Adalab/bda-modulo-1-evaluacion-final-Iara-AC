{
 "cells": [
  {
   "cell_type": "markdown",
   "metadata": {},
   "source": [
    "Evaluación Final Módulo 1"
   ]
  },
  {
   "cell_type": "code",
   "execution_count": 117,
   "metadata": {},
   "outputs": [],
   "source": [
    "# Create class 'tienda online' with the following constructor method\n",
    "\n",
    "class TiendaOnline:\n",
    "    def __init__(self):\n",
    "        self.inventario = [] # Empty LIST for inventory\n",
    "        self.clientes = {}   # Empty DICT dor clients\n",
    "        self.ventas_totales = 0.0 # This variable = float \n",
    "        self.lista_nombres_inv = []  #List to support methods that need to update/search the inventory (list with dictionary) by name.\n",
    "\n",
    "    \n",
    "    def agregar_producto(self, nombre, precio, cantidad):\n",
    "        #iterar cada elemento de la lista inventario (cada elemento es un diccionario), y añadir en la lista_nombres_inv que esta en la clase.\n",
    "        #una lista con las keys nombres\n",
    "        self.lista_nombres_inv = [item['nombre'] for item in self.inventario] \n",
    "        # print(self.lista_nombres_inv)\n",
    "\n",
    "        #si el producto existe, tenemos que actualizar su cantidad\n",
    "        #estoy buscando el nombre (atributo) dentro de la nueva lista creada con la list comprehension\n",
    "        if  nombre in self.lista_nombres_inv: \n",
    "            self.inventario[self.lista_nombres_inv.index(nombre)]['cantidad'] += cantidad\n",
    "            \n",
    "        #si el producto no existe, tenemos que crear un nuevo producto. DICT dentro de LIST.\n",
    "        else:\n",
    "            nuevo_producto = {'nombre': nombre, 'precio': precio, 'cantidad': cantidad}  \n",
    "            self.inventario.append(nuevo_producto)\n",
    "            print(f\"El producto {nombre}, que no existia en el inventario, ha sido añadido correctamente.✅\")\n",
    "            print (\"---------------------------------------------------------------------------\")\n",
    "\n",
    "    def ver_inventario(self):\n",
    "        print(\"Inventario:\")\n",
    "        for item in self.inventario:\n",
    "            print (f\"Nombre: {item['nombre']}, Precio: {item['precio']}, Cantidad: {item['cantidad']}\")\n",
    "    \n",
    "\n",
    "    def buscar_producto(self,nombre):\n",
    "        if nombre in self.lista_nombres_inv:\n",
    "            #Si el nombre existe en el inventario, ahora hay que saber que lugar el nombre esta en la LISTA de inventario\n",
    "            index = self.lista_nombres_inv.index(nombre)  \n",
    "            print(f\"Producto encontrado:\\n\"\n",
    "              f\"Nombre: {self.inventario[index]['nombre']}\\n\"\n",
    "              f\"Precio: {self.inventario[index]['precio']}\\n\"\n",
    "              f\"Cantidad: {self.inventario[index]['cantidad']}\")\n",
    "            \n",
    "        else:\n",
    "            print(f\"Producto '{nombre}' no encontrado en el inventario.\")\n",
    "\n",
    "\n",
    "    def actualizar_stock(self,nombre, cantidad):\n",
    "        if nombre in self.lista_nombres_inv:\n",
    "            # index = self.lista_nombres_inv.index(nombre)  \n",
    "            for producto in self.inventario:\n",
    "                if producto['nombre'].lower() == nombre.lower():\n",
    "                    producto ['cantidad'] += cantidad\n",
    "                    print(f\"Se ha actualizado el producto '{nombre}' y ahora su cantidad es de {producto['cantidad']}\")\n",
    "                    return \n",
    "            \n",
    "        #si el producto no existe, tenemos que decir al usuario que el producto no existe\n",
    "        else:\n",
    "            print(f\"El producto {nombre} no existe en nuestro inventario por esto no podemos actualizarlo.😕\")\n",
    "            return\n",
    "\n",
    "    def eliminar_producto(self, nombre):\n",
    "        if nombre in self.lista_nombres_inv:\n",
    "            # index = self.lista_nombres_inv.index(nombre)  \n",
    "            for producto in self.inventario:\n",
    "                if producto['nombre'].lower() == nombre.lower():\n",
    "                    self.inventario.remove(producto)\n",
    "                    print(f\"Se ha eliminado correctamento el producto '{nombre}' del inventario.🫡\")\n",
    "                    return\n",
    "\n",
    "        # El producto no existe en nuestro inventario por esto no podemos actualizarlo\n",
    "        else:\n",
    "            print(f\"El producto '{nombre}' no existe en el inventario y por esto no puede ser eliminado.😕\")\n",
    "            return\n",
    "        \n",
    "           \n",
    "    def calcular_valor_inventario(self):\n",
    "        # Crear una variable que sea el total de inventario y empiece con 0\n",
    "        total_inventario = 0 \n",
    "        for producto in self.inventario:\n",
    "            valor_total_producto = producto['precio'] * producto['cantidad']\n",
    "            total_inventario += valor_total_producto\n",
    "        return (f\"El valor total del inventario es de {total_inventario} euros\")\n",
    "    \n",
    "\n",
    "    def realizar_compra(self):\n",
    "        # Diccionario vacío para almacenar las compras con los detalles hechas por el cliente\n",
    "        carrito = {}  \n",
    "        \n",
    "        while True:\n",
    "            print(f\"Estas son tus opciones de compra: {self.inventario}\")\n",
    "            print (\"---------------------------------------------------------------------------\")\n",
    "            nombre_prod_compra = input(\"¿Qué producto desea comprar? Si no quieres comprar nada digite 'no'\")\n",
    "\n",
    "            if nombre_prod_compra == 'no':\n",
    "                print(\"¡Compra finalizada!\")\n",
    "                print (\"---------------------------------------------------------------------------\")\n",
    "                # Aqui es donde paramos el bucle ya que el cliente no quiere comprar.\n",
    "                break \n",
    "\n",
    "            elif nombre_prod_compra not in self.lista_nombres_inv:\n",
    "                print(f\"Producto '{nombre_prod_compra}' no encontrado en el inventario.\")\n",
    "            \n",
    "            # Esta es la opción que el producto elegido por el cliente esta dentro del inventario\n",
    "            else:\n",
    "                index = self.lista_nombres_inv.index(nombre_prod_compra) \n",
    "                # Hay preguntar cual la cantidad que el cliente quiere, dentro de las que tenemos.\n",
    "                cantidad_prod_compra = int(input(f\"Ingrese la cantidad de {nombre_prod_compra} que desea comprar. La cantidad en stock de {nombre_prod_compra} son/es {self.inventario[index]['cantidad']}\"))\n",
    "                # Caso el cliente quiera comprar más cantidad de la que tengamos en stock\n",
    "                if cantidad_prod_compra > self.inventario[index]['cantidad']:   \n",
    "                    print(f\"No hay suficiente stock de {nombre_prod_compra}. Solo quedan {self.inventario[index]['cantidad']} en inventario.\")\n",
    "                    \n",
    "                else:   \n",
    "                    # Hay que agregar este producto en el diccionario carrito de compra del cliente. REGISTRO DE LA COMPRA!\n",
    "                    producto_dict = {nombre_prod_compra: {'precio': self.inventario[index]['precio'],\n",
    "                                                        'cantidad': cantidad_prod_compra}}\n",
    "                    carrito.update(producto_dict) \n",
    "                    # Además de añadir al carrito tenemos que ACTUALIZAR EL INVENTARIO. O sea, subtrair esta cantidad del inventario.\n",
    "                    self.inventario[index]['cantidad'] -= cantidad_prod_compra  \n",
    "                    print(f\"{cantidad_prod_compra} {nombre_prod_compra}(s) foram añadidos correctamente en el carrito de compras.✅\")\n",
    "                    print (\"---------------------------------------------------------------------------\")\n",
    "                       \n",
    "\n",
    "        #Calcular el coste total de la compra\n",
    "        #Iterar cada value del diccionario carrito para poder hacer la multipicación y saber el total de la compra\n",
    "        total_compra = sum(value['precio']*value['cantidad'] for value in carrito.values())  \n",
    "        print(f\"El total de la compra ha sido de {total_compra} euros.\")\n",
    "\n",
    "\n",
    "\n",
    "    def procesar_pago (self):\n",
    "        try:\n",
    "            # Solicitar las informaciones al cliente\n",
    "            total = float(input(\"⏩Ingrese el coste total de tu compra:\"))\n",
    "            pago = float(input(\"⏩Ingrese la cantidad de pago:\"))\n",
    "\n",
    "            if pago > total:\n",
    "                # Calcular si va haber cambio\n",
    "                cambio = pago - total \n",
    "                print (f\"Tu pago ha sido exitoso y tu cambio es de {cambio} euro(s)🎉\")\n",
    "            \n",
    "        except:\n",
    "            print (\"❌❌Mal..Hay que ingresar una cantidad que te permita pagar tu deuda.❌❌\")\n",
    "\n",
    "    def agregar_cliente(self,nombre,email):\n",
    "        if nombre in self.clientes:\n",
    "            print (f\"El cliente {nombre} ya existe en la base de datos\")\n",
    "\n",
    "        else:\n",
    "            new_client = {nombre: {'email':email, 'compras':[]}}\n",
    "            self.clientes.update(new_client)\n",
    "        print (f\"Se ha agregado {nombre} con el email {email}\")\n",
    "        print (\"---------------------------------------------------------------------------\")\n",
    "\n",
    "    def ver_clientes(self):\n",
    "        # Verificar si hay clientes registrados\n",
    "        if not self.clientes:\n",
    "            print(\"No hay clientes registrados.\")\n",
    "            return\n",
    "        \n",
    "        # Si existe el cliente hay que iterar la base de datos con el bucle for\n",
    "        for nombre_cliente, detalles_cliente in self.clientes.items():\n",
    "            # Imprimir los detalles de cada cliente\n",
    "            print(f\"Nombre: {nombre_cliente}, Correo Electrónico: {detalles_cliente['email']}\")\n",
    "\n",
    "\n",
    "    def registrar_compra (self, nombre_cliente, carrito:dict):\n",
    "        # for nombre_cliente in self.clientes:\n",
    "        if nombre_cliente not in self.clientes:\n",
    "            print(f\"Cliente {nombre_cliente} no esta en la base de datos de clientes, por esto no puede realizar la compra.😮\")\n",
    "            return \n",
    "\n",
    "        # Crear variables para la compra del cliente que existe en la base de datos  \n",
    "        total_compra = 0.0 \n",
    "        registro_compra = {}   #el registro de la compra va a ser un diccionario para despues ser añadida en el dict de clientes\n",
    "\n",
    "        # Calcular el total de la compra del cliente\n",
    "        for producto, total in carrito.items():\n",
    "            precio = total['precio']\n",
    "            cantidad = total['cantidad']\n",
    "\n",
    "        # Para esto hay que buscar el producto en el inventario\n",
    "        if producto in self.lista_nombres_inv:\n",
    "            # Si esto es verdad (el producto esta en el inventario), hay que verificar si hay la cantidad necesaria para la venta.\n",
    "            index = self.lista_nombres_inv.index(producto) \n",
    "            if self.inventario[index]['cantidad'] >= cantidad:\n",
    "                total_compra += precio * cantidad\n",
    "                registro_compra[producto] = {'precio': precio, 'cantidad': cantidad}\n",
    "                # Esto es para tener el inventario actualizado. Con menos el producto que se ha comprado\n",
    "                self.inventario[index]['cantidad'] -= cantidad   \n",
    "                print(f\"La compra de {nombre_cliente} ha sido registrada correctamente. Ha comprado {cantidad} de {producto}.💰\")\n",
    "            else:\n",
    "                print(f\"No hay stock suficiente para el {producto}\")\n",
    "        else: #caso el producto no este en nuestro inventario\n",
    "                print(f\"El producto {producto} no esta en el inventario y por esto no podemos registrar su compra.\")\n",
    "\n",
    "\n",
    "        #Hay que actualizar las ventas totales de la tienda\n",
    "        \n",
    "        self.ventas_totales += total_compra\n",
    "\n",
    "        #Registrar la compra al historial del cliente\n",
    "        self.clientes[nombre_cliente]['compras'].append(registro_compra)  \n",
    "    \n",
    "\n",
    "    def ver_compras_clientes (self, nombre_cliente):\n",
    "        # Verificar si el cliente esta en la base de datos\n",
    "        if nombre_cliente not in self.clientes:\n",
    "            print(f\"El cliente '{nombre_cliente}' no está registrado.\")\n",
    "            return\n",
    "        \n",
    "        # Obtener el historial de compras del cliente\n",
    "        historial_compras = self.clientes[nombre_cliente]['compras']\n",
    "        # El cliente puede no haber hecho ninguna compra\n",
    "        if not historial_compras:\n",
    "            print(f\"El cliente '{nombre_cliente}' no tiene compras registradas.\")\n",
    "            return\n",
    "        \n",
    "        # Variable del total gastado por el cliente que tiene historial de compras\n",
    "        total_compra_cliente = 0\n",
    "\n",
    "        # Recorrer la lista de compras del cliente\n",
    "        print(f\"Historial de compras de {nombre_cliente}:\")\n",
    "        print (\"---------------------------------------------------------------------------\")\n",
    "        for compra in historial_compras:\n",
    "            for producto, detalles in compra.items():\n",
    "                precio = detalles['precio']\n",
    "                cantidad = detalles['cantidad']\n",
    "                total_producto = precio * cantidad\n",
    "                total_compra_cliente += total_producto\n",
    "                \n",
    "                # Mostrar los detalles de la compra\n",
    "                print(f\"Producto: {producto}, Precio: {precio}, Cantidad: {cantidad}, Total: {total_producto}\")\n",
    "                print (\"---------------------------------------------------------------------------\")\n",
    "        # Mostrar el total gastado por el cliente\n",
    "        print(f\"🤑Total gastado por {nombre_cliente} ha sido de {total_compra_cliente} euros.🤑\")\n",
    "\n",
    "    def calcular_ventas_totales(self):\n",
    "        # Monstrar las ventas totales de la tienda\n",
    "        print (f\"💰💰Las ventas totales de la tienda son de {self.ventas_totales} euros.💰💰\")\n",
    "        "
   ]
  },
  {
   "cell_type": "code",
   "execution_count": 118,
   "metadata": {},
   "outputs": [
    {
     "name": "stdout",
     "output_type": "stream",
     "text": [
      "El producto Uva, que no existia en el inventario, ha sido añadido correctamente.✅\n",
      "---------------------------------------------------------------------------\n",
      "El producto Banana, que no existia en el inventario, ha sido añadido correctamente.✅\n",
      "---------------------------------------------------------------------------\n",
      "El producto Papaya, que no existia en el inventario, ha sido añadido correctamente.✅\n",
      "---------------------------------------------------------------------------\n",
      "El producto Kiwi, que no existia en el inventario, ha sido añadido correctamente.✅\n",
      "---------------------------------------------------------------------------\n",
      "El producto Melocotón, que no existia en el inventario, ha sido añadido correctamente.✅\n",
      "---------------------------------------------------------------------------\n"
     ]
    }
   ],
   "source": [
    "# Crear una instancia de la clase TiendaOnline\n",
    "store_1 =TiendaOnline()\n",
    "\n",
    "# Agregar productos\n",
    "dicc_producto = store_1.agregar_producto(\"Uva\", 3, 100)\n",
    "dicc_producto = store_1.agregar_producto(\"Banana\", 2, 350)\n",
    "dicc_producto = store_1.agregar_producto(\"Papaya\", 5, 88)\n",
    "dicc_producto = store_1.agregar_producto(\"Kiwi\", 4, 158)\n",
    "dicc_producto = store_1.agregar_producto(\"Melocotón\", 1.5, 96)"
   ]
  },
  {
   "cell_type": "code",
   "execution_count": 70,
   "metadata": {},
   "outputs": [
    {
     "name": "stdout",
     "output_type": "stream",
     "text": [
      "Inventario:\n",
      "Nombre: Uva, Precio: 3, Cantidad: 100\n",
      "Nombre: Banana, Precio: 2, Cantidad: 350\n",
      "Nombre: Papaya, Precio: 5, Cantidad: 88\n",
      "Nombre: Kiwi, Precio: 4, Cantidad: 158\n",
      "Nombre: Melocotón, Precio: 1.5, Cantidad: 96\n"
     ]
    }
   ],
   "source": [
    "# Ver inventario\n",
    "store_1.ver_inventario()"
   ]
  },
  {
   "cell_type": "code",
   "execution_count": 4,
   "metadata": {},
   "outputs": [
    {
     "name": "stdout",
     "output_type": "stream",
     "text": [
      "Búsqueda de productos por nombre 'Banana':\n",
      "Producto encontrado:\n",
      "Nombre: Banana\n",
      "Precio: 2\n",
      "Cantidad: 350\n"
     ]
    }
   ],
   "source": [
    "# Buscar productos por nombre\n",
    "print(\"Búsqueda de productos por nombre 'Banana':\")\n",
    "store_1.buscar_producto(\"Banana\")"
   ]
  },
  {
   "cell_type": "code",
   "execution_count": 62,
   "metadata": {},
   "outputs": [
    {
     "name": "stdout",
     "output_type": "stream",
     "text": [
      "Búsqueda de productos por nombre 'Sandía':\n",
      "Producto 'Sandía' no encontrado en el inventario.\n"
     ]
    }
   ],
   "source": [
    "# Buscar productos por nombre\n",
    "print(\"Búsqueda de productos por nombre 'Sandía':\")\n",
    "store_1.buscar_producto(\"Sandía\")"
   ]
  },
  {
   "cell_type": "code",
   "execution_count": 63,
   "metadata": {},
   "outputs": [
    {
     "name": "stdout",
     "output_type": "stream",
     "text": [
      "Se ha actualizado el producto 'Banana' y ahora su cantidad es de 359\n"
     ]
    }
   ],
   "source": [
    "# Actualizar stock de un producto\n",
    "store_1.actualizar_stock('Banana', 9)"
   ]
  },
  {
   "cell_type": "code",
   "execution_count": 64,
   "metadata": {},
   "outputs": [
    {
     "name": "stdout",
     "output_type": "stream",
     "text": [
      "El producto Camisa no existe en nuestro inventario por esto no podemos actualizarlo.😕\n"
     ]
    }
   ],
   "source": [
    "# Actualizar stock de un producto\n",
    "store_1.actualizar_stock('Camisa', 9)"
   ]
  },
  {
   "cell_type": "code",
   "execution_count": 65,
   "metadata": {},
   "outputs": [
    {
     "name": "stdout",
     "output_type": "stream",
     "text": [
      "El producto 'remolacha' no existe en el inventario y por esto no puede ser eliminado.😕\n"
     ]
    }
   ],
   "source": [
    "# Eliminar producto\n",
    "store_1.eliminar_producto('remolacha')"
   ]
  },
  {
   "cell_type": "code",
   "execution_count": 66,
   "metadata": {},
   "outputs": [
    {
     "name": "stdout",
     "output_type": "stream",
     "text": [
      "Se ha eliminado correctamento el producto 'Kiwi' del inventario.🫡\n"
     ]
    }
   ],
   "source": [
    "# Eliminar producto\n",
    "store_1.eliminar_producto('Kiwi')"
   ]
  },
  {
   "cell_type": "code",
   "execution_count": 67,
   "metadata": {},
   "outputs": [
    {
     "data": {
      "text/plain": [
       "'El valor total del inventario es de 1602.0 euros'"
      ]
     },
     "execution_count": 67,
     "metadata": {},
     "output_type": "execute_result"
    }
   ],
   "source": [
    "# Calcular valor total del inventario\n",
    "\n",
    "store_1.calcular_valor_inventario()"
   ]
  },
  {
   "cell_type": "code",
   "execution_count": 42,
   "metadata": {},
   "outputs": [
    {
     "name": "stdout",
     "output_type": "stream",
     "text": [
      "Estas son tus opciones de compra: [{'nombre': 'Uva', 'precio': 3, 'cantidad': 100}, {'nombre': 'Banana', 'precio': 2, 'cantidad': 350}, {'nombre': 'Papaya', 'precio': 5, 'cantidad': 88}, {'nombre': 'Kiwi', 'precio': 4, 'cantidad': 158}, {'nombre': 'Melocotón', 'precio': 1.5, 'cantidad': 96}]\n",
      "---------------------------------------------------------------------------\n",
      "Producto '' no encontrado en el inventario.\n",
      "Estas son tus opciones de compra: [{'nombre': 'Uva', 'precio': 3, 'cantidad': 100}, {'nombre': 'Banana', 'precio': 2, 'cantidad': 350}, {'nombre': 'Papaya', 'precio': 5, 'cantidad': 88}, {'nombre': 'Kiwi', 'precio': 4, 'cantidad': 158}, {'nombre': 'Melocotón', 'precio': 1.5, 'cantidad': 96}]\n",
      "---------------------------------------------------------------------------\n",
      "Producto '' no encontrado en el inventario.\n",
      "Estas son tus opciones de compra: [{'nombre': 'Uva', 'precio': 3, 'cantidad': 100}, {'nombre': 'Banana', 'precio': 2, 'cantidad': 350}, {'nombre': 'Papaya', 'precio': 5, 'cantidad': 88}, {'nombre': 'Kiwi', 'precio': 4, 'cantidad': 158}, {'nombre': 'Melocotón', 'precio': 1.5, 'cantidad': 96}]\n",
      "---------------------------------------------------------------------------\n",
      "Producto '' no encontrado en el inventario.\n",
      "Estas son tus opciones de compra: [{'nombre': 'Uva', 'precio': 3, 'cantidad': 100}, {'nombre': 'Banana', 'precio': 2, 'cantidad': 350}, {'nombre': 'Papaya', 'precio': 5, 'cantidad': 88}, {'nombre': 'Kiwi', 'precio': 4, 'cantidad': 158}, {'nombre': 'Melocotón', 'precio': 1.5, 'cantidad': 96}]\n",
      "---------------------------------------------------------------------------\n",
      "¡Compra finalizada!\n",
      "---------------------------------------------------------------------------\n",
      "El total de la compra ha sido de 0 euros.\n"
     ]
    }
   ],
   "source": [
    "# Realizar una compra de un producto del inventario \n",
    "\n",
    "store_1.realizar_compra()"
   ]
  },
  {
   "cell_type": "code",
   "execution_count": 68,
   "metadata": {},
   "outputs": [
    {
     "name": "stdout",
     "output_type": "stream",
     "text": [
      "Tu pago ha sido exitoso y tu cambio es de 42.0 euro(s)🎉\n"
     ]
    }
   ],
   "source": [
    "# Procesar el pago del cliente\n",
    "\n",
    "store_1.procesar_pago()"
   ]
  },
  {
   "cell_type": "code",
   "execution_count": 120,
   "metadata": {},
   "outputs": [
    {
     "name": "stdout",
     "output_type": "stream",
     "text": [
      "El cliente Pepita ya existe en la base de datos\n",
      "Se ha agregado Pepita con el email pepita1985@gmail.com\n",
      "---------------------------------------------------------------------------\n",
      "El cliente Oriol ya existe en la base de datos\n",
      "Se ha agregado Oriol con el email oriol_fty@gmail.com\n",
      "---------------------------------------------------------------------------\n",
      "El cliente Pedro ya existe en la base de datos\n",
      "Se ha agregado Pedro con el email pp_sanchez@gob.es\n",
      "---------------------------------------------------------------------------\n",
      "El cliente Carlota ya existe en la base de datos\n",
      "Se ha agregado Carlota con el email carlota_joaquina@hotmail.es\n",
      "---------------------------------------------------------------------------\n"
     ]
    }
   ],
   "source": [
    "# Agregar cliente\n",
    "\n",
    "store_1.agregar_cliente('Pepita', 'pepita1985@gmail.com')\n",
    "store_1.agregar_cliente('Oriol', 'oriol_fty@gmail.com')\n",
    "store_1.agregar_cliente('Pedro', 'pp_sanchez@gob.es')\n",
    "store_1.agregar_cliente('Carlota', 'carlota_joaquina@hotmail.es')"
   ]
  },
  {
   "cell_type": "code",
   "execution_count": 121,
   "metadata": {},
   "outputs": [
    {
     "name": "stdout",
     "output_type": "stream",
     "text": [
      "Nombre: Pepita, Correo Electrónico: pepita1985@gmail.com\n",
      "Nombre: Oriol, Correo Electrónico: oriol_fty@gmail.com\n",
      "Nombre: Pedro, Correo Electrónico: pp_sanchez@gob.es\n",
      "Nombre: Carlota, Correo Electrónico: carlota_joaquina@hotmail.es\n"
     ]
    }
   ],
   "source": [
    "store_1.ver_clientes()"
   ]
  },
  {
   "cell_type": "code",
   "execution_count": 122,
   "metadata": {},
   "outputs": [
    {
     "name": "stdout",
     "output_type": "stream",
     "text": [
      "La compra de Pepita ha sido registrada correctamente. Ha comprado 10 de Kiwi.💰\n"
     ]
    }
   ],
   "source": [
    "# Registrar compra de Pepita\n",
    "\n",
    "carrito_pepita = {'Kiwi': {'precio':2, 'cantidad':10}}\n",
    "store_1.registrar_compra('Pepita',carrito_pepita)\n"
   ]
  },
  {
   "cell_type": "code",
   "execution_count": 123,
   "metadata": {},
   "outputs": [
    {
     "name": "stdout",
     "output_type": "stream",
     "text": [
      "La compra de Pepita ha sido registrada correctamente. Ha comprado 8 de Banana.💰\n"
     ]
    }
   ],
   "source": [
    "# Registrar 2º compra de Pepita\n",
    "\n",
    "carrito_pepita = {'Banana': {'precio':1, 'cantidad':8}}\n",
    "store_1.registrar_compra('Pepita',carrito_pepita)"
   ]
  },
  {
   "cell_type": "code",
   "execution_count": 128,
   "metadata": {},
   "outputs": [
    {
     "name": "stdout",
     "output_type": "stream",
     "text": [
      "La compra de Pedro ha sido registrada correctamente. Ha comprado 20 de Papaya.💰\n"
     ]
    }
   ],
   "source": [
    "# Registrar compra de Pedro\n",
    "\n",
    "carrito_pedro = {'Papaya': {'precio':5, 'cantidad':20}}\n",
    "store_1.registrar_compra('Pedro',carrito_pedro)"
   ]
  },
  {
   "cell_type": "code",
   "execution_count": 124,
   "metadata": {},
   "outputs": [
    {
     "name": "stdout",
     "output_type": "stream",
     "text": [
      "Cliente Iara no esta en la base de datos de clientes, por esto no puede realizar la compra.😮\n"
     ]
    }
   ],
   "source": [
    "# Registrar compra de Iara que no existe en la base de datos\n",
    "\n",
    "carrito_iara = {'Uva': {'precio':5, 'cantidad':8}}\n",
    "store_1.registrar_compra('Iara',carrito_iara)"
   ]
  },
  {
   "cell_type": "code",
   "execution_count": 130,
   "metadata": {},
   "outputs": [
    {
     "name": "stdout",
     "output_type": "stream",
     "text": [
      "Historial de compras de Pepita:\n",
      "---------------------------------------------------------------------------\n",
      "Producto: Kiwi, Precio: 2, Cantidad: 10, Total: 20\n",
      "---------------------------------------------------------------------------\n",
      "Producto: Banana, Precio: 1, Cantidad: 8, Total: 8\n",
      "---------------------------------------------------------------------------\n",
      "Producto: Papaya, Precio: 5, Cantidad: 20, Total: 100\n",
      "---------------------------------------------------------------------------\n",
      "🤑Total gastado por Pepita ha sido de 128 euros.🤑\n"
     ]
    }
   ],
   "source": [
    "# Ver las compras de un cliente 'Pepita'\n",
    "\n",
    "store_1.ver_compras_clientes('Pepita')"
   ]
  },
  {
   "cell_type": "code",
   "execution_count": 131,
   "metadata": {},
   "outputs": [
    {
     "name": "stdout",
     "output_type": "stream",
     "text": [
      "Historial de compras de Pedro:\n",
      "---------------------------------------------------------------------------\n",
      "Producto: Papaya, Precio: 5, Cantidad: 20, Total: 100\n",
      "---------------------------------------------------------------------------\n",
      "🤑Total gastado por Pedro ha sido de 100 euros.🤑\n"
     ]
    }
   ],
   "source": [
    "# Ver las compras de un cliente 'Pedro'\n",
    "\n",
    "store_1.ver_compras_clientes('Pedro')"
   ]
  },
  {
   "cell_type": "code",
   "execution_count": 132,
   "metadata": {},
   "outputs": [
    {
     "name": "stdout",
     "output_type": "stream",
     "text": [
      "💰💰Las ventas totales de la tienda son de 228.0 euros.💰💰\n"
     ]
    }
   ],
   "source": [
    "# Ver las ventas totales\n",
    "\n",
    "store_1.calcular_ventas_totales()"
   ]
  }
 ],
 "metadata": {
  "kernelspec": {
   "display_name": "base",
   "language": "python",
   "name": "python3"
  },
  "language_info": {
   "codemirror_mode": {
    "name": "ipython",
    "version": 3
   },
   "file_extension": ".py",
   "mimetype": "text/x-python",
   "name": "python",
   "nbconvert_exporter": "python",
   "pygments_lexer": "ipython3",
   "version": "3.12.4"
  }
 },
 "nbformat": 4,
 "nbformat_minor": 2
}
